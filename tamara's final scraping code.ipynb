{
 "cells": [
  {
   "cell_type": "code",
   "execution_count": 1,
   "metadata": {},
   "outputs": [],
   "source": [
    "# -*- coding: utf-8 -*-\n",
    "\"\"\"\n",
    "Created on Thu Jul  9 11:30:59 2020\n",
    "\n",
    "@author: Tamara\n",
    "\"\"\"\n",
    "\n",
    "# prep: \n",
    "    #pip install selenium\n",
    "    #pip install webdriver_manager\n",
    "    \n",
    "#%% import different stuff\n",
    "from selenium import webdriver\n",
    "from selenium.webdriver.common.keys import Keys\n",
    "from selenium.webdriver.chrome.options import Options\n",
    "from selenium.webdriver.common.by import By\n",
    "import requests\n",
    "import time\n",
    "import xlrd,xlwt\n",
    "import os\n",
    "from datetime import datetime, date, timedelta\n",
    "from dateutil.relativedelta import *\n",
    "\n",
    "# for dropdown: \n",
    "from selenium.webdriver.support.ui import Select\n",
    "\n",
    "import numpy  as np\n",
    "from webdriver_manager.chrome import ChromeDriverManager\n",
    "\n",
    "#%% online options\n",
    "\n",
    "tradeSession = requests.Session()\n",
    "options = Options()\n",
    "options.incognito = True\n",
    "options.headless = False\n",
    "\n",
    "#%% login \n",
    "\n",
    "url = 'https://search-proquest-com.ezproxy1.lib.asu.edu'\n",
    "\n",
    "# other option: \n",
    "## https://search-proquest-com.ezproxy1.lib.asu.edu/ethnicnewswatch/socialsciences/fromDatabasesLayer/advanced\n",
    "                                                                              \n",
    "#%% define login process\n",
    "def theLogin():\n",
    "\n",
    "\tdriver.get(url)\n",
    "    \n",
    "\ttime.sleep(1.5+np.random.uniform() ) \n",
    "\tusername = driver.find_element_by_name(\"username\")                        \n",
    "\tusername.send_keys(usr)\n",
    "                                                                              \n",
    "\ttime.sleep(2+np.random.uniform()) \n",
    "\tpasswd = driver.find_element_by_name(\"password\")                           \n",
    "\n",
    "\tpasswd.send_keys(password)\n",
    "\tpasswd.send_keys(Keys.ENTER)\n",
    "\n",
    "\ttime.sleep(1+np.random.uniform()) \n",
    "\tdriver.get(url)\n",
    "\ttime.sleep(2.5+np.random.uniform())\n",
    "    \n",
    "\ttry:\n",
    "\t\tiframe = driver.find_elements_by_tag_name('iframe')[0]\n",
    "\t\tdriver.switch_to.frame(iframe)\n",
    "\t\tcookie_button = driver.find_element_by_xpath(\"xpath=//a[contains(text(),'Agree and Proceed')]\")\n",
    "\t\tcookie_button.click()\n",
    "\texcept:\n",
    "\t\tpass\n",
    "\n",
    "\ttry:\n",
    "\t\tcookie_button = driver.find_element_by_xpath(\"/html/body/div[8]/div[1]/div/div[2]/div[2]/a[1]\")\n",
    "\t\tcookie_button.click()\n",
    "\texcept:\n",
    "\t\tpass\n",
    "#%% define writing to excel\n",
    "    \n",
    "def write_to_xl(thedate,title):\n",
    "\toutsheet.write(index,0,thedate)\n",
    "\toutsheet.write(index,1,thesource)\n",
    "\toutsheet.write(index,2,title)\n",
    "    \n",
    "#%% define query \n",
    "def search(query):\n",
    "\tglobal index\n",
    "\tdriver.get(url)\n",
    "\tdriver.find_element_by_name(\"searchTerm\").send_keys(query+Keys.ENTER)\n",
    "\ttime.sleep(3+np.random.uniform()) #6\n",
    "\n",
    "\ttry:\n",
    "\t\tthelink = driver.find_element_by_id(\"citationDocTitleLink\").click()\n",
    "\t\ttime.sleep(1+np.random.uniform()) #2\n",
    "\texcept:\n",
    "\t\treturn\n",
    "\n",
    "\twhile True:\n",
    "\n",
    "\t\ttitle = driver.find_element_by_id(\"documentTitle\").text\n",
    "\t\ttitle = title.replace(\" \",\"_\")\n",
    "\n",
    "\t\tsymbols = '''!\"#$%&\\'()*+,-./:;?@\"'''\n",
    "\n",
    "\t\tfor s in symbols:\n",
    "\t\t\ttitle = title.replace(s, \"\")\n",
    "\n",
    "\t\ttitle = title[:50]\n",
    "\t\ttime.sleep(5+np.random.uniform())\n",
    "        \n",
    "#click for full text here, if not then download PDF\n",
    "\t\ttry: \n",
    "\t\t\tdriver.find_element_by_link_text('Full text').click()                 # added click for full text \n",
    "\t\t\ttime.sleep(1+np.random.uniform() ) \n",
    "\t\t\tthedata = driver.find_element_by_id(\"fullTextZone\").text\n",
    "\t\texcept: \n",
    "\t\t\ttry: \n",
    "\t\t\t\tthedata = \"see pdf\"\n",
    "\t\t\t\tdriver.find_element_by_id('downloadPDFLink').click()\n",
    "\t\t\t\ttime.sleep(.5+np.random.uniform()) \n",
    "\t\t\texcept:\n",
    "\t\t\t\tpass\n",
    "            \n",
    "#try get the date             \n",
    "\t\ttry:                                                                      # Fix this because not always the same date format\n",
    "\t\t\tthedate = driver.find_elements_by_class_name(\"titleAuthorETC\")[1].text.split(\"]\")[1].split(\":\")[0]\n",
    "\t\texcept: \n",
    "\t\t\tthedate = None \n",
    "            \n",
    "\t\twrite_to_xl(thedate,title)\n",
    "\t\tindex += 1\n",
    "\n",
    "\n",
    "\t\twith open(folderName+\"/\"+title+\".txt\",\"w\") as f:\n",
    "\t\t\tf.write(thedata)\n",
    "\t\ttry:\n",
    "\t\t\tdriver.find_element_by_id(\"nextLink\").click()\n",
    "\t\t\ttime.sleep(.5+np.random.uniform()) #2\n",
    "\t\texcept:\n",
    "\t\t\tbreak\n",
    "#%% folder for output\n",
    "folderName = \"Output - \" + datetime.now().strftime(\"%d-%m-%Y\") + \" - Kate\"\n",
    "\n",
    "try:\n",
    "\tos.mkdir(folderName)\n",
    "except FileExistsError:\n",
    "\tpass\n",
    "\n",
    "#%% output \n",
    "outworkbook = xlwt.Workbook()\n",
    "outsheet = outworkbook.add_sheet(\"result\")\n",
    "thetime = str(int(time.time()))\n",
    "\n",
    "index = 0\n",
    "\n",
    "# Login\n",
    "usr = 'cseigel'\n",
    "password = 'Santa!Fe12'\n",
    "\n",
    "# Search terms - to edit if want to change the source \n",
    "searchwords = \"(immigration OR immigrant OR refugee) AND (illegal OR undocumented)\"\n",
    "thesource = 'New York Times (1923-Current file)'\n",
    "# other options: \"News from Indian Country (1985-present)\", \"Akwesasne Notes (1975-1989)\", \"Seminole Tribune (1984-1989)\", \"The Jewish Press (1977-1989)\" , \n",
    "query = searchwords + \" AND (pub(\"+str(thesource)+\"))\" \n",
    "#query = \"(immigration OR immigrant OR refugee) AND (illegal OR undocumented) and PUB(New York Times)\"\n",
    "secondpart = \" NOT rtype.exact(review) AND stype(Newspapers) AND stype.exact('Historical Newspapers')\"\n",
    "\n"
   ]
  },
  {
   "cell_type": "code",
   "execution_count": null,
   "metadata": {},
   "outputs": [
    {
     "name": "stderr",
     "output_type": "stream",
     "text": [
      "[WDM] - Current google-chrome version is 87.0.4280\n",
      "[WDM] - Get LATEST driver version for 87.0.4280\n",
      "[WDM] - Driver [/Users/tanhakate/.wdm/drivers/chromedriver/mac64/87.0.4280.88/chromedriver] found in cache\n"
     ]
    },
    {
     "name": "stdout",
     "output_type": "stream",
     "text": [
      "19881224\n",
      " \n"
     ]
    },
    {
     "name": "stderr",
     "output_type": "stream",
     "text": [
      "//anaconda3/lib/python3.7/site-packages/ipykernel_launcher.py:23: DeprecationWarning: use options instead of chrome_options\n"
     ]
    },
    {
     "name": "stdout",
     "output_type": "stream",
     "text": [
      "(immigration OR immigrant OR refugee) AND (illegal OR undocumented) AND (pub(New York Times (1923-Current file))) AND PD(19881123-19881223) NOT rtype.exact(review) AND stype(Newspapers) AND stype.exact('Historical Newspapers')\n"
     ]
    },
    {
     "name": "stderr",
     "output_type": "stream",
     "text": [
      "[WDM] - Current google-chrome version is 87.0.4280\n",
      "[WDM] - Get LATEST driver version for 87.0.4280\n",
      "[WDM] - Driver [/Users/tanhakate/.wdm/drivers/chromedriver/mac64/87.0.4280.88/chromedriver] found in cache\n"
     ]
    },
    {
     "name": "stdout",
     "output_type": "stream",
     "text": [
      " \n",
      "(immigration OR immigrant OR refugee) AND (illegal OR undocumented) AND (pub(New York Times (1923-Current file))) AND PD(19881023-19881122) NOT rtype.exact(review) AND stype(Newspapers) AND stype.exact('Historical Newspapers')\n"
     ]
    },
    {
     "name": "stderr",
     "output_type": "stream",
     "text": [
      "[WDM] - Current google-chrome version is 87.0.4280\n",
      "[WDM] - Get LATEST driver version for 87.0.4280\n",
      "[WDM] - Driver [/Users/tanhakate/.wdm/drivers/chromedriver/mac64/87.0.4280.88/chromedriver] found in cache\n"
     ]
    },
    {
     "name": "stdout",
     "output_type": "stream",
     "text": [
      " \n",
      "(immigration OR immigrant OR refugee) AND (illegal OR undocumented) AND (pub(New York Times (1923-Current file))) AND PD(19880922-19881022) NOT rtype.exact(review) AND stype(Newspapers) AND stype.exact('Historical Newspapers')\n"
     ]
    },
    {
     "name": "stderr",
     "output_type": "stream",
     "text": [
      "[WDM] - Current google-chrome version is 87.0.4280\n",
      "[WDM] - Get LATEST driver version for 87.0.4280\n",
      "[WDM] - Driver [/Users/tanhakate/.wdm/drivers/chromedriver/mac64/87.0.4280.88/chromedriver] found in cache\n"
     ]
    },
    {
     "name": "stdout",
     "output_type": "stream",
     "text": [
      " \n",
      "(immigration OR immigrant OR refugee) AND (illegal OR undocumented) AND (pub(New York Times (1923-Current file))) AND PD(19880822-19880921) NOT rtype.exact(review) AND stype(Newspapers) AND stype.exact('Historical Newspapers')\n"
     ]
    },
    {
     "name": "stderr",
     "output_type": "stream",
     "text": [
      "[WDM] - Current google-chrome version is 87.0.4280\n",
      "[WDM] - Get LATEST driver version for 87.0.4280\n",
      "[WDM] - Driver [/Users/tanhakate/.wdm/drivers/chromedriver/mac64/87.0.4280.88/chromedriver] found in cache\n"
     ]
    },
    {
     "name": "stdout",
     "output_type": "stream",
     "text": [
      " \n",
      "(immigration OR immigrant OR refugee) AND (illegal OR undocumented) AND (pub(New York Times (1923-Current file))) AND PD(19880722-19880821) NOT rtype.exact(review) AND stype(Newspapers) AND stype.exact('Historical Newspapers')\n"
     ]
    },
    {
     "name": "stderr",
     "output_type": "stream",
     "text": [
      "[WDM] - Current google-chrome version is 87.0.4280\n",
      "[WDM] - Get LATEST driver version for 87.0.4280\n",
      "[WDM] - Driver [/Users/tanhakate/.wdm/drivers/chromedriver/mac64/87.0.4280.88/chromedriver] found in cache\n"
     ]
    },
    {
     "name": "stdout",
     "output_type": "stream",
     "text": [
      " \n",
      "(immigration OR immigrant OR refugee) AND (illegal OR undocumented) AND (pub(New York Times (1923-Current file))) AND PD(19880621-19880721) NOT rtype.exact(review) AND stype(Newspapers) AND stype.exact('Historical Newspapers')\n"
     ]
    },
    {
     "name": "stderr",
     "output_type": "stream",
     "text": [
      "[WDM] - Current google-chrome version is 87.0.4280\n",
      "[WDM] - Get LATEST driver version for 87.0.4280\n"
     ]
    },
    {
     "name": "stdout",
     "output_type": "stream",
     "text": [
      " \n"
     ]
    },
    {
     "name": "stderr",
     "output_type": "stream",
     "text": [
      "[WDM] - Driver [/Users/tanhakate/.wdm/drivers/chromedriver/mac64/87.0.4280.88/chromedriver] found in cache\n"
     ]
    },
    {
     "name": "stdout",
     "output_type": "stream",
     "text": [
      "(immigration OR immigrant OR refugee) AND (illegal OR undocumented) AND (pub(New York Times (1923-Current file))) AND PD(19880521-19880620) NOT rtype.exact(review) AND stype(Newspapers) AND stype.exact('Historical Newspapers')\n"
     ]
    },
    {
     "name": "stderr",
     "output_type": "stream",
     "text": [
      "[WDM] - Current google-chrome version is 87.0.4280\n",
      "[WDM] - Get LATEST driver version for 87.0.4280\n",
      "[WDM] - Driver [/Users/tanhakate/.wdm/drivers/chromedriver/mac64/87.0.4280.88/chromedriver] found in cache\n"
     ]
    },
    {
     "name": "stdout",
     "output_type": "stream",
     "text": [
      " \n",
      "(immigration OR immigrant OR refugee) AND (illegal OR undocumented) AND (pub(New York Times (1923-Current file))) AND PD(19880420-19880520) NOT rtype.exact(review) AND stype(Newspapers) AND stype.exact('Historical Newspapers')\n"
     ]
    },
    {
     "name": "stderr",
     "output_type": "stream",
     "text": [
      "[WDM] - Current google-chrome version is 87.0.4280\n",
      "[WDM] - Get LATEST driver version for 87.0.4280\n",
      "[WDM] - Driver [/Users/tanhakate/.wdm/drivers/chromedriver/mac64/87.0.4280.88/chromedriver] found in cache\n"
     ]
    },
    {
     "name": "stdout",
     "output_type": "stream",
     "text": [
      " \n",
      "(immigration OR immigrant OR refugee) AND (illegal OR undocumented) AND (pub(New York Times (1923-Current file))) AND PD(19880320-19880419) NOT rtype.exact(review) AND stype(Newspapers) AND stype.exact('Historical Newspapers')\n"
     ]
    }
   ],
   "source": [
    "#### Go through time selection as loop \n",
    "\n",
    "if os.path.exists(\"curdate.txt\"):\n",
    "\twith open(\"curdate.txt\",'r') as f:\n",
    "\t\tnewdate = f.read()\n",
    "\t\tprint(newdate)\n",
    "\tend_date = datetime.strptime(newdate, '%Y%m%d')\n",
    "else:\n",
    "\tend_date = datetime.strptime(\"19891231\", '%Y%m%d')\n",
    "# Put as end day one day after the day you want! \n",
    "    \n",
    "start_date = datetime.strptime(\"19850101\", '%Y%m%d')\n",
    "\n",
    "deltaone = relativedelta(days=+1)\n",
    "# Below you can edit to have more or less days in the search term. \n",
    "delta = relativedelta(days=+30)\n",
    "\n",
    "while start_date <= end_date:\n",
    "    \n",
    "\toptions = Options()\n",
    "\toptions.incognito = True\n",
    "\toptions.headless = False\n",
    "\tdriver = webdriver.Chrome(ChromeDriverManager().install(), chrome_options=options)\n",
    "    \n",
    "\ttheLogin()\n",
    "\tend_date -= deltaone\n",
    "\tcurdate = end_date.strftime(\"%Y%m%d\")\n",
    "\tend_date -= delta\n",
    "\tlengthdate = end_date.strftime(\"%Y%m%d\")\n",
    "\tnewquery = query + \" AND PD(\"+str(lengthdate)+\"-\"+str(curdate)+\")\" + secondpart\n",
    "    \n",
    "\tprint(newquery)\n",
    "\tsearch(newquery)\n",
    "    \n",
    "\toutworkbook.save(thetime+\".xls\")\n",
    "\tdriver.quit()\n",
    "\n",
    "\tto_store = end_date.strftime(\"%Y%m%d\")\n",
    "\n",
    "\twith open(\"curdate.txt\",'w') as f:\n",
    "\t\tf.write(to_store)\n",
    "\n",
    "\ttime.sleep(5+np.random.uniform())\n",
    "\n",
    "os.remove(\"curdate.txt\")\n",
    "######################"
   ]
  },
  {
   "cell_type": "code",
   "execution_count": null,
   "metadata": {},
   "outputs": [],
   "source": []
  }
 ],
 "metadata": {
  "kernelspec": {
   "display_name": "Python 3",
   "language": "python",
   "name": "python3"
  },
  "language_info": {
   "codemirror_mode": {
    "name": "ipython",
    "version": 3
   },
   "file_extension": ".py",
   "mimetype": "text/x-python",
   "name": "python",
   "nbconvert_exporter": "python",
   "pygments_lexer": "ipython3",
   "version": "3.7.3"
  }
 },
 "nbformat": 4,
 "nbformat_minor": 2
}
